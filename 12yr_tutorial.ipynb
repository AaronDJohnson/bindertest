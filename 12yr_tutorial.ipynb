{
  "nbformat": 4,
  "nbformat_minor": 0,
  "metadata": {
    "colab": {
      "name": "Copy of pta_12yr_tutorial.ipynb",
      "provenance": [],
      "collapsed_sections": []
    },
    "kernelspec": {
      "name": "python3",
      "display_name": "Python 3"
    }
  },
  "cells": [
    {
      "cell_type": "markdown",
      "metadata": {
        "id": "YBNLs0xDTspe"
      },
      "source": [
        "## **Pulsar timing array 12.5 year gravitational wave background tutorial**"
      ]
    },
    {
      "cell_type": "markdown",
      "metadata": {
        "id": "gciKxtxCKpVM"
      },
      "source": [
        "In this tutorial, we will walk through the analysis of a single pulsar from the 12.5 year dataset analysis for the gravitational wave background which is treated as a common red noise among the pulsars. First, we will use `J1909` which according to the dropout analysis supports such a signal, and then `J1713` which does not support the gravitational wave background. To use the entire pulsar timing array, a significant amount of computation will be required. Because of this, it is recommended that you download the relevant parts and run them on your own computer (or computational cluster)."
      ]
    },
    {
      "cell_type": "markdown",
      "metadata": {
        "id": "7CrwPmHET6H1"
      },
      "source": [
        "We start here by installing the necessary software to our google colab notebook. For installation instructions to run this notebook on your own computer, see (insert github link here)"
      ]
    },
    {
      "cell_type": "markdown",
      "metadata": {
        "id": "7eXZHg86iqSA"
      },
      "source": [
        "# Run once"
      ]
    },
    {
      "cell_type": "code",
      "metadata": {
        "id": "5QkqRs_nE1lz",
        "outputId": "4231ff52-a1f7-4e7d-ebdd-36dbd86b556b",
        "colab": {
          "base_uri": "https://localhost:8080/",
          "height": 1000
        }
      },
      "source": [
        "!pip install pyephem\n",
        "!pip install git+https://github.com/dfm/acor.git\n",
        "!pip install astropy\n",
        "!pip install jplephem\n",
        "!pip install Cython\n",
        "!pip install corner\n",
        "!apt install libtool\n",
        "!apt install autoconf\n",
        "!apt install libsuitesparse-dev\n",
        "!pip install scikit-sparse\n",
        "!pip install git+https://github.com/vallis/libstempo.git\n",
        "!pip install git+https://github.com/nanograv/PINT.git\n",
        "!pip install git+https://github.com/nanograv/enterprise.git\n",
        "!pip install git+https://github.com/nanograv/enterprise_extensions\n",
        "!pip install git+https://github.com/jellis18/PTMCMCSampler\n",
        "!pip install mpi4py\n",
        "!pip install git+https://github.com/nanograv/enterprise_extensions.git\n",
        "!pip install healpy"
      ],
      "execution_count": 1,
      "outputs": [
        {
          "output_type": "stream",
          "text": [
            "Collecting pyephem\n",
            "  Downloading https://files.pythonhosted.org/packages/e7/d2/bc73bcf8ab21c2506e45aa8cff83bac9dd5d0df1428ab500610077684bb4/pyephem-3.7.7.0.tar.gz\n",
            "Collecting ephem==3.7.7.0\n",
            "\u001b[?25l  Downloading https://files.pythonhosted.org/packages/98/33/13a7249d8ceb4500b443135e4eff9f6f0386b13d45a2e4793c480b1511a9/ephem-3.7.7.0-cp36-cp36m-manylinux2010_x86_64.whl (1.2MB)\n",
            "\u001b[K     |████████████████████████████████| 1.2MB 2.7MB/s \n",
            "\u001b[?25hBuilding wheels for collected packages: pyephem\n",
            "  Building wheel for pyephem (setup.py) ... \u001b[?25l\u001b[?25hdone\n",
            "  Created wheel for pyephem: filename=pyephem-3.7.7.0-cp36-none-any.whl size=1463 sha256=25823bc6976e85a8549f7e4de171e708a966b27c1391dcbab892699be5907e25\n",
            "  Stored in directory: /root/.cache/pip/wheels/41/6c/61/6f7156f2473f0561c3c8eee8e6f091274d9b7d46555d6d0890\n",
            "Successfully built pyephem\n",
            "Installing collected packages: ephem, pyephem\n",
            "  Found existing installation: ephem 3.7.7.1\n",
            "    Uninstalling ephem-3.7.7.1:\n",
            "      Successfully uninstalled ephem-3.7.7.1\n",
            "Successfully installed ephem-3.7.7.0 pyephem-3.7.7.0\n",
            "Collecting git+https://github.com/dfm/acor.git\n",
            "  Cloning https://github.com/dfm/acor.git to /tmp/pip-req-build-l80tzdbt\n",
            "  Running command git clone -q https://github.com/dfm/acor.git /tmp/pip-req-build-l80tzdbt\n",
            "Requirement already satisfied: numpy in /usr/local/lib/python3.6/dist-packages (from acor==1.1.1) (1.18.5)\n",
            "Building wheels for collected packages: acor\n",
            "  Building wheel for acor (setup.py) ... \u001b[?25l\u001b[?25hdone\n",
            "  Created wheel for acor: filename=acor-1.1.1-cp36-cp36m-linux_x86_64.whl size=25632 sha256=42f49178a5880b3f5f1437ee527f2c63cee3c6098cd6b898e07a649b424387b1\n",
            "  Stored in directory: /tmp/pip-ephem-wheel-cache-myfqzqcz/wheels/ea/16/75/7b822064fa34905cc7903088b695b8aca106158a333c9f328d\n",
            "Successfully built acor\n",
            "Installing collected packages: acor\n",
            "Successfully installed acor-1.1.1\n",
            "Requirement already satisfied: astropy in /usr/local/lib/python3.6/dist-packages (4.0.1.post1)\n",
            "Requirement already satisfied: numpy>=1.16 in /usr/local/lib/python3.6/dist-packages (from astropy) (1.18.5)\n",
            "Collecting jplephem\n",
            "\u001b[?25l  Downloading https://files.pythonhosted.org/packages/c9/f0/e57456436531333455f40864622c5ae359654ccede8fe1156c3c2ac6c492/jplephem-2.15.tar.gz (40kB)\n",
            "\u001b[K     |████████████████████████████████| 40kB 1.5MB/s \n",
            "\u001b[?25hRequirement already satisfied: numpy in /usr/local/lib/python3.6/dist-packages (from jplephem) (1.18.5)\n",
            "Building wheels for collected packages: jplephem\n",
            "  Building wheel for jplephem (setup.py) ... \u001b[?25l\u001b[?25hdone\n",
            "  Created wheel for jplephem: filename=jplephem-2.15-cp36-none-any.whl size=46021 sha256=8949716069cf618b594f80f07f03f8eba8411c626a2d612bc990e79391d758fe\n",
            "  Stored in directory: /root/.cache/pip/wheels/01/71/9c/beaa33beb607ef67b62765324a10cd3584e30fbeef8856b7a8\n",
            "Successfully built jplephem\n",
            "Installing collected packages: jplephem\n",
            "Successfully installed jplephem-2.15\n",
            "Requirement already satisfied: Cython in /usr/local/lib/python3.6/dist-packages (0.29.21)\n",
            "Collecting corner\n",
            "  Downloading https://files.pythonhosted.org/packages/5a/ff/df5e34996aec8bc342c72714d1384e9af17259e6f60c2a63da2f53ba1631/corner-2.1.0-py2.py3-none-any.whl\n",
            "Requirement already satisfied: setuptools>=40.6.0 in /usr/local/lib/python3.6/dist-packages (from corner) (50.3.0)\n",
            "Collecting setuptools-scm\n",
            "  Downloading https://files.pythonhosted.org/packages/ad/d3/e54f8b4cde0f6fb4f231629f570c1a33ded18515411dee6df6fe363d976f/setuptools_scm-4.1.2-py2.py3-none-any.whl\n",
            "Requirement already satisfied: matplotlib>=2.1 in /usr/local/lib/python3.6/dist-packages (from corner) (3.2.2)\n",
            "Requirement already satisfied: wheel in /usr/local/lib/python3.6/dist-packages (from corner) (0.35.1)\n",
            "Requirement already satisfied: pyparsing!=2.0.4,!=2.1.2,!=2.1.6,>=2.0.1 in /usr/local/lib/python3.6/dist-packages (from matplotlib>=2.1->corner) (2.4.7)\n",
            "Requirement already satisfied: cycler>=0.10 in /usr/local/lib/python3.6/dist-packages (from matplotlib>=2.1->corner) (0.10.0)\n",
            "Requirement already satisfied: numpy>=1.11 in /usr/local/lib/python3.6/dist-packages (from matplotlib>=2.1->corner) (1.18.5)\n",
            "Requirement already satisfied: python-dateutil>=2.1 in /usr/local/lib/python3.6/dist-packages (from matplotlib>=2.1->corner) (2.8.1)\n",
            "Requirement already satisfied: kiwisolver>=1.0.1 in /usr/local/lib/python3.6/dist-packages (from matplotlib>=2.1->corner) (1.2.0)\n",
            "Requirement already satisfied: six in /usr/local/lib/python3.6/dist-packages (from cycler>=0.10->matplotlib>=2.1->corner) (1.15.0)\n",
            "Installing collected packages: setuptools-scm, corner\n",
            "Successfully installed corner-2.1.0 setuptools-scm-4.1.2\n",
            "Reading package lists... Done\n",
            "Building dependency tree       \n",
            "Reading state information... Done\n",
            "The following additional packages will be installed:\n",
            "  autotools-dev file libmagic-mgc libmagic1\n",
            "Suggested packages:\n",
            "  libtool-doc autoconf automaken gcj-jdk\n",
            "The following NEW packages will be installed:\n",
            "  autotools-dev file libmagic-mgc libmagic1 libtool\n",
            "0 upgraded, 5 newly installed, 0 to remove and 6 not upgraded.\n",
            "Need to get 508 kB of archives.\n",
            "After this operation, 6,715 kB of additional disk space will be used.\n",
            "Get:1 http://archive.ubuntu.com/ubuntu bionic-updates/main amd64 libmagic-mgc amd64 1:5.32-2ubuntu0.4 [184 kB]\n",
            "Get:2 http://archive.ubuntu.com/ubuntu bionic-updates/main amd64 libmagic1 amd64 1:5.32-2ubuntu0.4 [68.6 kB]\n",
            "Get:3 http://archive.ubuntu.com/ubuntu bionic-updates/main amd64 file amd64 1:5.32-2ubuntu0.4 [22.1 kB]\n",
            "Get:4 http://archive.ubuntu.com/ubuntu bionic/main amd64 autotools-dev all 20180224.1 [39.6 kB]\n",
            "Get:5 http://archive.ubuntu.com/ubuntu bionic/main amd64 libtool all 2.4.6-2 [194 kB]\n",
            "Fetched 508 kB in 1s (678 kB/s)\n",
            "Selecting previously unselected package libmagic-mgc.\n",
            "(Reading database ... 144617 files and directories currently installed.)\n",
            "Preparing to unpack .../libmagic-mgc_1%3a5.32-2ubuntu0.4_amd64.deb ...\n",
            "Unpacking libmagic-mgc (1:5.32-2ubuntu0.4) ...\n",
            "Selecting previously unselected package libmagic1:amd64.\n",
            "Preparing to unpack .../libmagic1_1%3a5.32-2ubuntu0.4_amd64.deb ...\n",
            "Unpacking libmagic1:amd64 (1:5.32-2ubuntu0.4) ...\n",
            "Selecting previously unselected package file.\n",
            "Preparing to unpack .../file_1%3a5.32-2ubuntu0.4_amd64.deb ...\n",
            "Unpacking file (1:5.32-2ubuntu0.4) ...\n",
            "Selecting previously unselected package autotools-dev.\n",
            "Preparing to unpack .../autotools-dev_20180224.1_all.deb ...\n",
            "Unpacking autotools-dev (20180224.1) ...\n",
            "Selecting previously unselected package libtool.\n",
            "Preparing to unpack .../libtool_2.4.6-2_all.deb ...\n",
            "Unpacking libtool (2.4.6-2) ...\n",
            "Setting up libmagic-mgc (1:5.32-2ubuntu0.4) ...\n",
            "Setting up libmagic1:amd64 (1:5.32-2ubuntu0.4) ...\n",
            "Setting up autotools-dev (20180224.1) ...\n",
            "Setting up file (1:5.32-2ubuntu0.4) ...\n",
            "Setting up libtool (2.4.6-2) ...\n",
            "Processing triggers for man-db (2.8.3-2ubuntu0.1) ...\n",
            "Processing triggers for libc-bin (2.27-3ubuntu1.2) ...\n",
            "/sbin/ldconfig.real: /usr/local/lib/python3.6/dist-packages/ideep4py/lib/libmkldnn.so.0 is not a symbolic link\n",
            "\n",
            "Reading package lists... Done\n",
            "Building dependency tree       \n",
            "Reading state information... Done\n",
            "The following additional packages will be installed:\n",
            "  automake libsigsegv2 m4\n",
            "Suggested packages:\n",
            "  autoconf-archive gnu-standards autoconf-doc gettext m4-doc\n",
            "The following NEW packages will be installed:\n",
            "  autoconf automake libsigsegv2 m4\n",
            "0 upgraded, 4 newly installed, 0 to remove and 6 not upgraded.\n",
            "Need to get 1,043 kB of archives.\n",
            "After this operation, 3,833 kB of additional disk space will be used.\n",
            "Get:1 http://archive.ubuntu.com/ubuntu bionic/main amd64 libsigsegv2 amd64 2.12-1 [14.7 kB]\n",
            "Get:2 http://archive.ubuntu.com/ubuntu bionic/main amd64 m4 amd64 1.4.18-1 [197 kB]\n",
            "Get:3 http://archive.ubuntu.com/ubuntu bionic/main amd64 autoconf all 2.69-11 [322 kB]\n",
            "Get:4 http://archive.ubuntu.com/ubuntu bionic/main amd64 automake all 1:1.15.1-3ubuntu2 [509 kB]\n",
            "Fetched 1,043 kB in 1s (1,287 kB/s)\n",
            "Selecting previously unselected package libsigsegv2:amd64.\n",
            "(Reading database ... 144688 files and directories currently installed.)\n",
            "Preparing to unpack .../libsigsegv2_2.12-1_amd64.deb ...\n",
            "Unpacking libsigsegv2:amd64 (2.12-1) ...\n",
            "Selecting previously unselected package m4.\n",
            "Preparing to unpack .../archives/m4_1.4.18-1_amd64.deb ...\n",
            "Unpacking m4 (1.4.18-1) ...\n",
            "Selecting previously unselected package autoconf.\n",
            "Preparing to unpack .../autoconf_2.69-11_all.deb ...\n",
            "Unpacking autoconf (2.69-11) ...\n",
            "Selecting previously unselected package automake.\n",
            "Preparing to unpack .../automake_1%3a1.15.1-3ubuntu2_all.deb ...\n",
            "Unpacking automake (1:1.15.1-3ubuntu2) ...\n",
            "Setting up libsigsegv2:amd64 (2.12-1) ...\n",
            "Setting up m4 (1.4.18-1) ...\n",
            "Setting up autoconf (2.69-11) ...\n",
            "Setting up automake (1:1.15.1-3ubuntu2) ...\n",
            "update-alternatives: using /usr/bin/automake-1.15 to provide /usr/bin/automake (automake) in auto mode\n",
            "Processing triggers for libc-bin (2.27-3ubuntu1.2) ...\n",
            "/sbin/ldconfig.real: /usr/local/lib/python3.6/dist-packages/ideep4py/lib/libmkldnn.so.0 is not a symbolic link\n",
            "\n",
            "Processing triggers for man-db (2.8.3-2ubuntu0.1) ...\n",
            "Reading package lists... Done\n",
            "Building dependency tree       \n",
            "Reading state information... Done\n",
            "The following additional packages will be installed:\n",
            "  libamd2 libbtf1 libcamd2 libccolamd2 libcholmod3 libcolamd2 libcxsparse3\n",
            "  libgraphblas1 libklu1 libldl2 libmetis5 librbio2 libspqr2\n",
            "  libsuitesparseconfig5 libumfpack5\n",
            "The following NEW packages will be installed:\n",
            "  libamd2 libbtf1 libcamd2 libccolamd2 libcholmod3 libcolamd2 libcxsparse3\n",
            "  libgraphblas1 libklu1 libldl2 libmetis5 librbio2 libspqr2 libsuitesparse-dev\n",
            "  libsuitesparseconfig5 libumfpack5\n",
            "0 upgraded, 16 newly installed, 0 to remove and 6 not upgraded.\n",
            "Need to get 2,646 kB of archives.\n",
            "After this operation, 19.8 MB of additional disk space will be used.\n",
            "Get:1 http://archive.ubuntu.com/ubuntu bionic/main amd64 libsuitesparseconfig5 amd64 1:5.1.2-2 [9,044 B]\n",
            "Get:2 http://archive.ubuntu.com/ubuntu bionic/main amd64 libamd2 amd64 1:5.1.2-2 [19.5 kB]\n",
            "Get:3 http://archive.ubuntu.com/ubuntu bionic/main amd64 libbtf1 amd64 1:5.1.2-2 [10.6 kB]\n",
            "Get:4 http://archive.ubuntu.com/ubuntu bionic/main amd64 libcamd2 amd64 1:5.1.2-2 [20.9 kB]\n",
            "Get:5 http://archive.ubuntu.com/ubuntu bionic/main amd64 libccolamd2 amd64 1:5.1.2-2 [21.7 kB]\n",
            "Get:6 http://archive.ubuntu.com/ubuntu bionic/main amd64 libcolamd2 amd64 1:5.1.2-2 [16.2 kB]\n",
            "Get:7 http://archive.ubuntu.com/ubuntu bionic/main amd64 libmetis5 amd64 5.1.0.dfsg-5 [169 kB]\n",
            "Get:8 http://archive.ubuntu.com/ubuntu bionic/main amd64 libcholmod3 amd64 1:5.1.2-2 [300 kB]\n",
            "Get:9 http://archive.ubuntu.com/ubuntu bionic/main amd64 libcxsparse3 amd64 1:5.1.2-2 [63.9 kB]\n",
            "Get:10 http://archive.ubuntu.com/ubuntu bionic/main amd64 libgraphblas1 amd64 1:5.1.2-2 [384 kB]\n",
            "Get:11 http://archive.ubuntu.com/ubuntu bionic/main amd64 libklu1 amd64 1:5.1.2-2 [69.3 kB]\n",
            "Get:12 http://archive.ubuntu.com/ubuntu bionic/main amd64 libldl2 amd64 1:5.1.2-2 [10.3 kB]\n",
            "Get:13 http://archive.ubuntu.com/ubuntu bionic/main amd64 librbio2 amd64 1:5.1.2-2 [24.0 kB]\n",
            "Get:14 http://archive.ubuntu.com/ubuntu bionic/main amd64 libspqr2 amd64 1:5.1.2-2 [64.2 kB]\n",
            "Get:15 http://archive.ubuntu.com/ubuntu bionic/main amd64 libumfpack5 amd64 1:5.1.2-2 [229 kB]\n",
            "Get:16 http://archive.ubuntu.com/ubuntu bionic/main amd64 libsuitesparse-dev amd64 1:5.1.2-2 [1,235 kB]\n",
            "Fetched 2,646 kB in 1s (3,003 kB/s)\n",
            "Selecting previously unselected package libsuitesparseconfig5:amd64.\n",
            "(Reading database ... 144959 files and directories currently installed.)\n",
            "Preparing to unpack .../00-libsuitesparseconfig5_1%3a5.1.2-2_amd64.deb ...\n",
            "Unpacking libsuitesparseconfig5:amd64 (1:5.1.2-2) ...\n",
            "Selecting previously unselected package libamd2:amd64.\n",
            "Preparing to unpack .../01-libamd2_1%3a5.1.2-2_amd64.deb ...\n",
            "Unpacking libamd2:amd64 (1:5.1.2-2) ...\n",
            "Selecting previously unselected package libbtf1:amd64.\n",
            "Preparing to unpack .../02-libbtf1_1%3a5.1.2-2_amd64.deb ...\n",
            "Unpacking libbtf1:amd64 (1:5.1.2-2) ...\n",
            "Selecting previously unselected package libcamd2:amd64.\n",
            "Preparing to unpack .../03-libcamd2_1%3a5.1.2-2_amd64.deb ...\n",
            "Unpacking libcamd2:amd64 (1:5.1.2-2) ...\n",
            "Selecting previously unselected package libccolamd2:amd64.\n",
            "Preparing to unpack .../04-libccolamd2_1%3a5.1.2-2_amd64.deb ...\n",
            "Unpacking libccolamd2:amd64 (1:5.1.2-2) ...\n",
            "Selecting previously unselected package libcolamd2:amd64.\n",
            "Preparing to unpack .../05-libcolamd2_1%3a5.1.2-2_amd64.deb ...\n",
            "Unpacking libcolamd2:amd64 (1:5.1.2-2) ...\n",
            "Selecting previously unselected package libmetis5:amd64.\n",
            "Preparing to unpack .../06-libmetis5_5.1.0.dfsg-5_amd64.deb ...\n",
            "Unpacking libmetis5:amd64 (5.1.0.dfsg-5) ...\n",
            "Selecting previously unselected package libcholmod3:amd64.\n",
            "Preparing to unpack .../07-libcholmod3_1%3a5.1.2-2_amd64.deb ...\n",
            "Unpacking libcholmod3:amd64 (1:5.1.2-2) ...\n",
            "Selecting previously unselected package libcxsparse3:amd64.\n",
            "Preparing to unpack .../08-libcxsparse3_1%3a5.1.2-2_amd64.deb ...\n",
            "Unpacking libcxsparse3:amd64 (1:5.1.2-2) ...\n",
            "Selecting previously unselected package libgraphblas1:amd64.\n",
            "Preparing to unpack .../09-libgraphblas1_1%3a5.1.2-2_amd64.deb ...\n",
            "Unpacking libgraphblas1:amd64 (1:5.1.2-2) ...\n",
            "Selecting previously unselected package libklu1:amd64.\n",
            "Preparing to unpack .../10-libklu1_1%3a5.1.2-2_amd64.deb ...\n",
            "Unpacking libklu1:amd64 (1:5.1.2-2) ...\n",
            "Selecting previously unselected package libldl2:amd64.\n",
            "Preparing to unpack .../11-libldl2_1%3a5.1.2-2_amd64.deb ...\n",
            "Unpacking libldl2:amd64 (1:5.1.2-2) ...\n",
            "Selecting previously unselected package librbio2:amd64.\n",
            "Preparing to unpack .../12-librbio2_1%3a5.1.2-2_amd64.deb ...\n",
            "Unpacking librbio2:amd64 (1:5.1.2-2) ...\n",
            "Selecting previously unselected package libspqr2:amd64.\n",
            "Preparing to unpack .../13-libspqr2_1%3a5.1.2-2_amd64.deb ...\n",
            "Unpacking libspqr2:amd64 (1:5.1.2-2) ...\n",
            "Selecting previously unselected package libumfpack5:amd64.\n",
            "Preparing to unpack .../14-libumfpack5_1%3a5.1.2-2_amd64.deb ...\n",
            "Unpacking libumfpack5:amd64 (1:5.1.2-2) ...\n",
            "Selecting previously unselected package libsuitesparse-dev:amd64.\n",
            "Preparing to unpack .../15-libsuitesparse-dev_1%3a5.1.2-2_amd64.deb ...\n",
            "Unpacking libsuitesparse-dev:amd64 (1:5.1.2-2) ...\n",
            "Setting up libbtf1:amd64 (1:5.1.2-2) ...\n",
            "Setting up libldl2:amd64 (1:5.1.2-2) ...\n",
            "Setting up libcxsparse3:amd64 (1:5.1.2-2) ...\n",
            "Setting up libgraphblas1:amd64 (1:5.1.2-2) ...\n",
            "Setting up libsuitesparseconfig5:amd64 (1:5.1.2-2) ...\n",
            "Setting up libmetis5:amd64 (5.1.0.dfsg-5) ...\n",
            "Setting up libcolamd2:amd64 (1:5.1.2-2) ...\n",
            "Setting up libccolamd2:amd64 (1:5.1.2-2) ...\n",
            "Setting up librbio2:amd64 (1:5.1.2-2) ...\n",
            "Setting up libcamd2:amd64 (1:5.1.2-2) ...\n",
            "Setting up libamd2:amd64 (1:5.1.2-2) ...\n",
            "Setting up libklu1:amd64 (1:5.1.2-2) ...\n",
            "Setting up libcholmod3:amd64 (1:5.1.2-2) ...\n",
            "Setting up libspqr2:amd64 (1:5.1.2-2) ...\n",
            "Setting up libumfpack5:amd64 (1:5.1.2-2) ...\n",
            "Setting up libsuitesparse-dev:amd64 (1:5.1.2-2) ...\n",
            "Processing triggers for libc-bin (2.27-3ubuntu1.2) ...\n",
            "/sbin/ldconfig.real: /usr/local/lib/python3.6/dist-packages/ideep4py/lib/libmkldnn.so.0 is not a symbolic link\n",
            "\n",
            "Collecting scikit-sparse\n",
            "\u001b[?25l  Downloading https://files.pythonhosted.org/packages/af/14/08a13ccf3b4e0300cf47641f959b8062376a73efc4c8265f2b6f6eae04fc/scikit-sparse-0.4.4.tar.gz (385kB)\n",
            "\u001b[K     |████████████████████████████████| 389kB 2.7MB/s \n",
            "\u001b[?25hRequirement already satisfied: numpy in /usr/local/lib/python3.6/dist-packages (from scikit-sparse) (1.18.5)\n",
            "Requirement already satisfied: scipy in /usr/local/lib/python3.6/dist-packages (from scikit-sparse) (1.4.1)\n",
            "Building wheels for collected packages: scikit-sparse\n",
            "  Building wheel for scikit-sparse (setup.py) ... \u001b[?25l\u001b[?25hdone\n",
            "  Created wheel for scikit-sparse: filename=scikit_sparse-0.4.4-cp36-cp36m-linux_x86_64.whl size=582971 sha256=ae916e6cdf3af19d503b421104055404a0f211a6f275bdc9429a74bc9429bfae\n",
            "  Stored in directory: /root/.cache/pip/wheels/e2/9a/ab/067414de0670f95436345d4ef33337d511a47aabc6c3307062\n",
            "Successfully built scikit-sparse\n",
            "Installing collected packages: scikit-sparse\n",
            "Successfully installed scikit-sparse-0.4.4\n",
            "Collecting git+https://github.com/vallis/libstempo.git\n",
            "  Cloning https://github.com/vallis/libstempo.git to /tmp/pip-req-build-c0ghr6k6\n",
            "  Running command git clone -q https://github.com/vallis/libstempo.git /tmp/pip-req-build-c0ghr6k6\n",
            "Building wheels for collected packages: libstempo\n",
            "  Building wheel for libstempo (setup.py) ... \u001b[?25l\u001b[?25hdone\n",
            "  Created wheel for libstempo: filename=libstempo-2.3.5-cp36-cp36m-linux_x86_64.whl size=1133373 sha256=a9a3c8f52fd358d098d34d723fe6ca9849cc76cd0d20841d1c4d2a93e710425c\n",
            "  Stored in directory: /tmp/pip-ephem-wheel-cache-kk7r7bpp/wheels/42/35/90/462e414fd951ff42117768d4568dd45b7920c06e1549ad804d\n",
            "Successfully built libstempo\n",
            "Installing collected packages: libstempo\n",
            "Successfully installed libstempo-2.3.5\n",
            "Collecting git+https://github.com/nanograv/PINT.git\n",
            "  Cloning https://github.com/nanograv/PINT.git to /tmp/pip-req-build-mbc4wafn\n",
            "  Running command git clone -q https://github.com/nanograv/PINT.git /tmp/pip-req-build-mbc4wafn\n",
            "Collecting astropy!=4.0.1,!=4.0.1.post1,>=3.2\n",
            "\u001b[?25l  Downloading https://files.pythonhosted.org/packages/45/8a/1392bcc8e2f666aa7b7652b302b3642ca0cadf56b606e5d74550f8f8250a/astropy-4.0-cp36-cp36m-manylinux1_x86_64.whl (6.5MB)\n",
            "\u001b[K     |████████████████████████████████| 6.5MB 2.2MB/s \n",
            "\u001b[?25hRequirement already satisfied: numpy>=1.17.0 in /usr/local/lib/python3.6/dist-packages (from pint-pulsar==0.7+299.g548566b9) (1.18.5)\n",
            "Requirement already satisfied: scipy>=0.18.1 in /usr/local/lib/python3.6/dist-packages (from pint-pulsar==0.7+299.g548566b9) (1.4.1)\n",
            "Requirement already satisfied: jplephem>=2.6 in /usr/local/lib/python3.6/dist-packages (from pint-pulsar==0.7+299.g548566b9) (2.15)\n",
            "Requirement already satisfied: matplotlib>=1.5.3 in /usr/local/lib/python3.6/dist-packages (from pint-pulsar==0.7+299.g548566b9) (3.2.2)\n",
            "Collecting emcee>=3.0\n",
            "\u001b[?25l  Downloading https://files.pythonhosted.org/packages/97/f4/00151f5f843088337c6a53edd6cbb2df340f1044d23080c662f95219cc3f/emcee-3.0.2-py2.py3-none-any.whl (41kB)\n",
            "\u001b[K     |████████████████████████████████| 51kB 5.1MB/s \n",
            "\u001b[?25hCollecting uncertainties\n",
            "\u001b[?25l  Downloading https://files.pythonhosted.org/packages/b0/e0/fc200da8190729dcb685ae4877ed6936d31d64aeccb8cc355d9ec982681d/uncertainties-3.1.4-py2.py3-none-any.whl (246kB)\n",
            "\u001b[K     |████████████████████████████████| 256kB 44.3MB/s \n",
            "\u001b[?25hRequirement already satisfied: corner>=2.0.1 in /usr/local/lib/python3.6/dist-packages (from pint-pulsar==0.7+299.g548566b9) (2.1.0)\n",
            "Requirement already satisfied: kiwisolver>=1.0.1 in /usr/local/lib/python3.6/dist-packages (from matplotlib>=1.5.3->pint-pulsar==0.7+299.g548566b9) (1.2.0)\n",
            "Requirement already satisfied: pyparsing!=2.0.4,!=2.1.2,!=2.1.6,>=2.0.1 in /usr/local/lib/python3.6/dist-packages (from matplotlib>=1.5.3->pint-pulsar==0.7+299.g548566b9) (2.4.7)\n",
            "Requirement already satisfied: python-dateutil>=2.1 in /usr/local/lib/python3.6/dist-packages (from matplotlib>=1.5.3->pint-pulsar==0.7+299.g548566b9) (2.8.1)\n",
            "Requirement already satisfied: cycler>=0.10 in /usr/local/lib/python3.6/dist-packages (from matplotlib>=1.5.3->pint-pulsar==0.7+299.g548566b9) (0.10.0)\n",
            "Requirement already satisfied: future in /usr/local/lib/python3.6/dist-packages (from uncertainties->pint-pulsar==0.7+299.g548566b9) (0.16.0)\n",
            "Requirement already satisfied: wheel in /usr/local/lib/python3.6/dist-packages (from corner>=2.0.1->pint-pulsar==0.7+299.g548566b9) (0.35.1)\n",
            "Requirement already satisfied: setuptools-scm in /usr/local/lib/python3.6/dist-packages (from corner>=2.0.1->pint-pulsar==0.7+299.g548566b9) (4.1.2)\n",
            "Requirement already satisfied: setuptools>=40.6.0 in /usr/local/lib/python3.6/dist-packages (from corner>=2.0.1->pint-pulsar==0.7+299.g548566b9) (50.3.0)\n",
            "Requirement already satisfied: six>=1.5 in /usr/local/lib/python3.6/dist-packages (from python-dateutil>=2.1->matplotlib>=1.5.3->pint-pulsar==0.7+299.g548566b9) (1.15.0)\n",
            "Building wheels for collected packages: pint-pulsar\n",
            "  Building wheel for pint-pulsar (setup.py) ... \u001b[?25l\u001b[?25hdone\n",
            "  Created wheel for pint-pulsar: filename=pint_pulsar-0.7+299.g548566b9-py2.py3-none-any.whl size=10998343 sha256=6a9b97e9c7c6c107387afca0cda17a51d65a00b836f61f270a3e2509e760d744\n",
            "  Stored in directory: /tmp/pip-ephem-wheel-cache-l7i1lmxp/wheels/97/19/63/c0e468ead20d93f442aea0e5628f05914b6d5af9b37263bb95\n",
            "Successfully built pint-pulsar\n",
            "Installing collected packages: astropy, emcee, uncertainties, pint-pulsar\n",
            "  Found existing installation: astropy 4.0.1.post1\n",
            "    Uninstalling astropy-4.0.1.post1:\n",
            "      Successfully uninstalled astropy-4.0.1.post1\n",
            "Successfully installed astropy-4.0 emcee-3.0.2 pint-pulsar-0.7+299.g548566b9 uncertainties-3.1.4\n",
            "Collecting git+https://github.com/nanograv/enterprise.git\n",
            "  Cloning https://github.com/nanograv/enterprise.git to /tmp/pip-req-build-mm9x1jij\n",
            "  Running command git clone -q https://github.com/nanograv/enterprise.git /tmp/pip-req-build-mm9x1jij\n",
            "  Installing build dependencies ... \u001b[?25l\u001b[?25hdone\n",
            "  Getting requirements to build wheel ... \u001b[?25l\u001b[?25hdone\n",
            "    Preparing wheel metadata ... \u001b[?25l\u001b[?25hdone\n",
            "Building wheels for collected packages: enterprise\n",
            "  Building wheel for enterprise (PEP 517) ... \u001b[?25l\u001b[?25hdone\n",
            "  Created wheel for enterprise: filename=enterprise-3.0.0-cp36-none-any.whl size=9253868 sha256=b3852acab458baa4bf9082601db51995192e9637cec55dceaa54db3c98f59492\n",
            "  Stored in directory: /tmp/pip-ephem-wheel-cache-xz95cald/wheels/a9/85/fd/efe1d8fcafa37f5fb532febcd5f540b6ef997f35f9e3cb7d24\n",
            "Successfully built enterprise\n",
            "Installing collected packages: enterprise\n",
            "Successfully installed enterprise-3.0.0\n",
            "Collecting git+https://github.com/nanograv/enterprise_extensions\n",
            "  Cloning https://github.com/nanograv/enterprise_extensions to /tmp/pip-req-build-8eucj87h\n",
            "  Running command git clone -q https://github.com/nanograv/enterprise_extensions /tmp/pip-req-build-8eucj87h\n",
            "Requirement already satisfied: numpy in /usr/local/lib/python3.6/dist-packages (from enterprise-extensions==0.0.0) (1.18.5)\n",
            "Requirement already satisfied: scipy in /usr/local/lib/python3.6/dist-packages (from enterprise-extensions==0.0.0) (1.4.1)\n",
            "Building wheels for collected packages: enterprise-extensions\n",
            "  Building wheel for enterprise-extensions (setup.py) ... \u001b[?25l\u001b[?25hdone\n",
            "  Created wheel for enterprise-extensions: filename=enterprise_extensions-0.0.0-py2.py3-none-any.whl size=147465 sha256=3b08159e2680213108dff441961236a8fea72bbd1f8d5da962643dbff26743f6\n",
            "  Stored in directory: /tmp/pip-ephem-wheel-cache-9lxfuqbm/wheels/71/c7/c6/ac53a44b9d89bf004b280618c4a175eaf1697aaf23f2ac0fd0\n",
            "Successfully built enterprise-extensions\n",
            "Installing collected packages: enterprise-extensions\n",
            "Successfully installed enterprise-extensions-0.0.0\n",
            "Collecting git+https://github.com/jellis18/PTMCMCSampler\n",
            "  Cloning https://github.com/jellis18/PTMCMCSampler to /tmp/pip-req-build-klm7h582\n",
            "  Running command git clone -q https://github.com/jellis18/PTMCMCSampler /tmp/pip-req-build-klm7h582\n",
            "Requirement already satisfied: numpy in /usr/local/lib/python3.6/dist-packages (from PTMCMCSampler==2015.2) (1.18.5)\n",
            "Requirement already satisfied: scipy in /usr/local/lib/python3.6/dist-packages (from PTMCMCSampler==2015.2) (1.4.1)\n",
            "Building wheels for collected packages: PTMCMCSampler\n",
            "  Building wheel for PTMCMCSampler (setup.py) ... \u001b[?25l\u001b[?25hdone\n",
            "  Created wheel for PTMCMCSampler: filename=PTMCMCSampler-2015.2-cp36-none-any.whl size=18462 sha256=76fb66b9f1709850775038f18866dfa16f2733f5885e203fe5e91f1376047e23\n",
            "  Stored in directory: /tmp/pip-ephem-wheel-cache-_yan9d2w/wheels/7a/ce/bc/1943523d53252345c3d81b60acd88ea1bf1d4f83317d46b8d9\n",
            "Successfully built PTMCMCSampler\n",
            "Installing collected packages: PTMCMCSampler\n",
            "Successfully installed PTMCMCSampler-2015.2\n",
            "Collecting mpi4py\n",
            "\u001b[?25l  Downloading https://files.pythonhosted.org/packages/ec/8f/bbd8de5ba566dd77e408d8136e2bab7fdf2b97ce06cab830ba8b50a2f588/mpi4py-3.0.3.tar.gz (1.4MB)\n",
            "\u001b[K     |████████████████████████████████| 1.4MB 2.8MB/s \n",
            "\u001b[?25hBuilding wheels for collected packages: mpi4py\n",
            "  Building wheel for mpi4py (setup.py) ... \u001b[?25l\u001b[?25hdone\n",
            "  Created wheel for mpi4py: filename=mpi4py-3.0.3-cp36-cp36m-linux_x86_64.whl size=2074477 sha256=7649014f81d477f5c67be0392cfcf90587aae344ff56dc2b143e27c7f795843e\n",
            "  Stored in directory: /root/.cache/pip/wheels/18/e0/86/2b713dd512199096012ceca61429e12b960888de59818871d6\n",
            "Successfully built mpi4py\n",
            "Installing collected packages: mpi4py\n",
            "Successfully installed mpi4py-3.0.3\n",
            "Collecting git+https://github.com/nanograv/enterprise_extensions.git\n",
            "  Cloning https://github.com/nanograv/enterprise_extensions.git to /tmp/pip-req-build-dtsp9131\n",
            "  Running command git clone -q https://github.com/nanograv/enterprise_extensions.git /tmp/pip-req-build-dtsp9131\n",
            "Requirement already satisfied (use --upgrade to upgrade): enterprise-extensions==0.0.0 from git+https://github.com/nanograv/enterprise_extensions.git in /usr/local/lib/python3.6/dist-packages\n",
            "Requirement already satisfied: numpy in /usr/local/lib/python3.6/dist-packages (from enterprise-extensions==0.0.0) (1.18.5)\n",
            "Requirement already satisfied: scipy in /usr/local/lib/python3.6/dist-packages (from enterprise-extensions==0.0.0) (1.4.1)\n",
            "Building wheels for collected packages: enterprise-extensions\n",
            "  Building wheel for enterprise-extensions (setup.py) ... \u001b[?25l\u001b[?25hdone\n",
            "  Created wheel for enterprise-extensions: filename=enterprise_extensions-0.0.0-py2.py3-none-any.whl size=147465 sha256=cdb8916f9ffc6fa5f435c537568b0a01b3b092e88c7dd20f5e283c39b99882ad\n",
            "  Stored in directory: /tmp/pip-ephem-wheel-cache-q8apnn42/wheels/5e/2d/9b/9861f4423cebdb6ff65d320ae1049e527588a1ef8b71bf2095\n",
            "Successfully built enterprise-extensions\n",
            "Collecting healpy\n",
            "\u001b[?25l  Downloading https://files.pythonhosted.org/packages/dd/30/56144086dc132b5bf5b271c62d045460db6c6a5a2bb68d3f7bde678a6727/healpy-1.14.0-cp36-cp36m-manylinux1_x86_64.whl (15.8MB)\n",
            "\u001b[K     |████████████████████████████████| 15.8MB 23.3MB/s \n",
            "\u001b[?25hRequirement already satisfied: astropy in /usr/local/lib/python3.6/dist-packages (from healpy) (4.0)\n",
            "Requirement already satisfied: six in /usr/local/lib/python3.6/dist-packages (from healpy) (1.15.0)\n",
            "Requirement already satisfied: numpy>=1.13 in /usr/local/lib/python3.6/dist-packages (from healpy) (1.18.5)\n",
            "Requirement already satisfied: matplotlib in /usr/local/lib/python3.6/dist-packages (from healpy) (3.2.2)\n",
            "Requirement already satisfied: scipy in /usr/local/lib/python3.6/dist-packages (from healpy) (1.4.1)\n",
            "Requirement already satisfied: cycler>=0.10 in /usr/local/lib/python3.6/dist-packages (from matplotlib->healpy) (0.10.0)\n",
            "Requirement already satisfied: kiwisolver>=1.0.1 in /usr/local/lib/python3.6/dist-packages (from matplotlib->healpy) (1.2.0)\n",
            "Requirement already satisfied: pyparsing!=2.0.4,!=2.1.2,!=2.1.6,>=2.0.1 in /usr/local/lib/python3.6/dist-packages (from matplotlib->healpy) (2.4.7)\n",
            "Requirement already satisfied: python-dateutil>=2.1 in /usr/local/lib/python3.6/dist-packages (from matplotlib->healpy) (2.8.1)\n",
            "Installing collected packages: healpy\n",
            "Successfully installed healpy-1.14.0\n"
          ],
          "name": "stdout"
        }
      ]
    },
    {
      "cell_type": "markdown",
      "metadata": {
        "id": "4WShBDZSQTrt"
      },
      "source": [
        "This repository contains the data needed to analyze these two pulsars."
      ]
    },
    {
      "cell_type": "code",
      "metadata": {
        "id": "okd_UyzywamF",
        "outputId": "90f57f38-cfa7-43f8-c002-6818e5b89330",
        "colab": {
          "base_uri": "https://localhost:8080/",
          "height": 182
        }
      },
      "source": [
        "!rm -r nanograv_12yr_tutorial/\n",
        "!git clone https://github.com/AaronDJohnson/nanograv_12yr_tutorial.git"
      ],
      "execution_count": 2,
      "outputs": [
        {
          "output_type": "stream",
          "text": [
            "rm: cannot remove 'nanograv_12yr_tutorial/': No such file or directory\n",
            "Cloning into 'nanograv_12yr_tutorial'...\n",
            "remote: Enumerating objects: 126, done.\u001b[K\n",
            "remote: Counting objects: 100% (126/126), done.\u001b[K\n",
            "remote: Compressing objects: 100% (82/82), done.\u001b[K\n",
            "remote: Total 126 (delta 54), reused 112 (delta 43), pack-reused 0\u001b[K\n",
            "Receiving objects: 100% (126/126), 23.85 MiB | 9.95 MiB/s, done.\n",
            "Resolving deltas: 100% (54/54), done.\n",
            "Checking out files: 100% (104/104), done.\n"
          ],
          "name": "stdout"
        }
      ]
    },
    {
      "cell_type": "markdown",
      "metadata": {
        "id": "xISJZ1MZiwl1"
      },
      "source": [
        "# Start here if everything is already installed (otherwise see \"Run once\" section)\n"
      ]
    },
    {
      "cell_type": "markdown",
      "metadata": {
        "id": "83B8epPXl5ht"
      },
      "source": [
        "Next, we import the python files that are needed for our analysis. Many of these files are from `enterprise`, a suite of tools to aid in the analysis of pulsar timing data."
      ]
    },
    {
      "cell_type": "code",
      "metadata": {
        "id": "izpyWMJIEoGn"
      },
      "source": [
        "import numpy as np\n",
        "import glob, os, json\n",
        "\n",
        "import matplotlib.pyplot as plt\n",
        "import corner\n",
        "%matplotlib inline\n",
        "%config InlineBackend.figure_format = 'retina'\n",
        "\n",
        "import enterprise\n",
        "from enterprise.pulsar import Pulsar\n",
        "import enterprise.signals.parameter as parameter\n",
        "from enterprise.signals import utils\n",
        "from enterprise.signals import signal_base\n",
        "from enterprise.signals import selections\n",
        "from enterprise.signals.selections import Selection\n",
        "from enterprise.signals import white_signals\n",
        "from enterprise.signals import gp_signals\n",
        "from enterprise.signals import deterministic_signals\n",
        "\n",
        "from PTMCMCSampler.PTMCMCSampler import PTSampler as ptmcmc"
      ],
      "execution_count": 3,
      "outputs": []
    },
    {
      "cell_type": "markdown",
      "metadata": {
        "id": "AT9j7LpaQjJo"
      },
      "source": [
        "Load the par and tim files for a single pulsar, J1713+0747. This is one of the best pulsars in the NANOGrav array. The `enterprise` Pulsar class uses `libstempo` to read in `par` and `tim` files, then stores all pulsar data into a `Pulsar` object. This object contains all data and meta-data needed for the ensuing pulsar and PTA analysis. You no longer need to reference the `par` and `tim` files after this cell."
      ]
    },
    {
      "cell_type": "code",
      "metadata": {
        "id": "PLVoAj5lPQdr"
      },
      "source": [
        "datadir = 'nanograv_12yr_tutorial/data/'\n",
        "\n",
        "psrstring = 'J1909'  # two exist in this dataset: 1909 and 1713\n",
        "\n",
        "parfiles = sorted(glob.glob(datadir + psrstring + '*.par'))\n",
        "timfiles = sorted(glob.glob(datadir + psrstring + '*.tim'))\n",
        "\n",
        "ephemeris = 'DE438'\n",
        "\n",
        "psrs = []\n",
        "for p, t in zip(parfiles, timfiles):\n",
        "    psrname = parfiles[0].split('/')[-1].split('_')[0]\n",
        "    psr = Pulsar(p, t, ephem=ephemeris)\n",
        "    psrs.append(psr)\n"
      ],
      "execution_count": 4,
      "outputs": []
    },
    {
      "cell_type": "code",
      "metadata": {
        "id": "jy9VYW5aPPcs"
      },
      "source": [
        "import pickle\n",
        "\n",
        "pickle.dump(psrs, open( \"J1909.pkl\", \"wb\" ))"
      ],
      "execution_count": 5,
      "outputs": []
    },
    {
      "cell_type": "code",
      "metadata": {
        "id": "XptkJN8jPR4b"
      },
      "source": [
        "psrs = pickle.load(open('J1909.pkl', \"rb\"))"
      ],
      "execution_count": 2,
      "outputs": []
    },
    {
      "cell_type": "code",
      "metadata": {
        "id": "qnE6sFlj9MfM"
      },
      "source": [
        "# load the white noise parameters from the noisefiles\n",
        "noisefiles = glob.glob( '*.json')\n",
        "\n",
        "params = {}\n",
        "for nf in noisefiles:\n",
        "    with open(nf, 'r') as f:\n",
        "        params.update(json.load(f))"
      ],
      "execution_count": 11,
      "outputs": []
    },
    {
      "cell_type": "markdown",
      "metadata": {
        "id": "v7lK-_lxSQNS"
      },
      "source": [
        "# Single Pulsar Analysis"
      ]
    },
    {
      "cell_type": "code",
      "metadata": {
        "id": "-Yqf5k7HPoho",
        "outputId": "f6bce64f-9b33-4263-dffd-cb06f564c2fd",
        "colab": {
          "base_uri": "https://localhost:8080/",
          "height": 35
        }
      },
      "source": [
        "print(psrs)\n",
        "psr = psrs[0]"
      ],
      "execution_count": 12,
      "outputs": [
        {
          "output_type": "stream",
          "text": [
            "[<enterprise.pulsar.Tempo2Pulsar object at 0x7fb74d66d048>]\n"
          ],
          "name": "stdout"
        }
      ]
    },
    {
      "cell_type": "code",
      "metadata": {
        "id": "78b0taMpngTy",
        "outputId": "80ce3b44-b404-401e-d917-fb116239289d",
        "colab": {
          "base_uri": "https://localhost:8080/",
          "height": 35
        }
      },
      "source": [
        "print(psr.name)"
      ],
      "execution_count": 13,
      "outputs": [
        {
          "output_type": "stream",
          "text": [
            "J1909-3744\n"
          ],
          "name": "stdout"
        }
      ]
    },
    {
      "cell_type": "code",
      "metadata": {
        "id": "T9weuVVc4HOC",
        "outputId": "60d1a573-1786-4d31-fd75-4fe07b5d980e",
        "colab": {
          "base_uri": "https://localhost:8080/",
          "height": 54
        }
      },
      "source": [
        "# find the maximum time span to set red-noise/DM-variation frequency sampling\n",
        "tmin = psr.toas.min()\n",
        "tmax = psr.toas.max()\n",
        "Tspan = np.max(tmax) - np.min(tmin)\n",
        "print('Tspan =', Tspan / 3600 / 24 / 365, 'years')  # time in years\n",
        "print('Number of TOAs =', len(psr.toas))"
      ],
      "execution_count": 14,
      "outputs": [
        {
          "output_type": "stream",
          "text": [
            "Tspan = 12.702235010508442 years\n",
            "Number of TOAs = 22633\n"
          ],
          "name": "stdout"
        }
      ]
    },
    {
      "cell_type": "markdown",
      "metadata": {
        "id": "062IzphJSw5d"
      },
      "source": [
        "Plot the residuals:"
      ]
    },
    {
      "cell_type": "code",
      "metadata": {
        "id": "SgwsPB1v4JoA",
        "outputId": "aa20b32a-ef38-432d-b5f5-4b7662cd3158",
        "colab": {
          "base_uri": "https://localhost:8080/",
          "height": 312
        }
      },
      "source": [
        "delta_t = psr.toas\n",
        "\n",
        "print('Number of TOAs: {0}'.format(len(psr.toas)))\n",
        "\n",
        "plt.errorbar(delta_t, psr.residuals, ls='', marker='.', yerr=psr.toaerrs)\n",
        "\n",
        "plt.ylabel('Residuals (s)');\n",
        "plt.xlabel('MJD');\n",
        "\n",
        "plt.title(psr.name);"
      ],
      "execution_count": 15,
      "outputs": [
        {
          "output_type": "stream",
          "text": [
            "Number of TOAs: 22633\n"
          ],
          "name": "stdout"
        },
        {
          "output_type": "display_data",
          "data": {
            "image/png": "[encoded data removed]",
            "text/plain": [
              "<Figure size 432x288 with 1 Axes>"
            ]
          },
          "metadata": {
            "tags": [],
            "image/png": {
              "width": 384,
              "height": 277
            },
            "needs_background": "light"
          }
        }
      ]
    },
    {
      "cell_type": "markdown",
      "metadata": {
        "id": "m3IozbLpx18C"
      },
      "source": [
        "These TOAs are made up of several components: white noise, red noise, and possibly even a common red noise that is the gravitational wave background.\n",
        "\n",
        "First, let's add the white noise. There are three terms describing white noise: EFAC, which is a linear scaling of the TOA uncertainties; EQUAD, which is white noise added in quadrature to the TOA uncertainties; and ECORR, which is correlated over a single observation but uncorrelated between different observations.\n",
        "\n",
        "In our analysis, we will fix the white noise to the maximum-likelihood values, which are found from noise analyses run on each pulsar. For now, we will initialize the white noise parameters as constants.\n",
        "\n",
        "In a PTA-wide analysis we would vary the white noise for individual pulsars and set the parameters to their most likely values when using all the pulsars. This reduces the number of parameters in our model and save a significant amount of time. On a single pulsar, this will make the computation take minutes instead of days.\n"
      ]
    },
    {
      "cell_type": "code",
      "metadata": {
        "id": "7kVh83a8w36s"
      },
      "source": [
        "# white noise parameters: varying the white noise will add more parameters to our model\n",
        "white_vary = False\n",
        "if white_vary:\n",
        "    efac = parameter.Uniform(0.01, 10.0)\n",
        "    equad = parameter.Uniform(-8.5, -5)\n",
        "    ecorr = parameter.Uniform(-8.5, -5)\n",
        "else:\n",
        "    efac = parameter.Constant() \n",
        "    equad = parameter.Constant() \n",
        "    ecorr = parameter.Constant() # we'll set these later with the params dictionary\n",
        "\n",
        "# there will be separate white noise parameters for each observing backend\n",
        "# since NANOGrav began taking data, there have been two generations of backends\n",
        "# (ASP and PUPPI at Arecibo, GASP and GUPPI at Green Bank)\n",
        "selection = selections.Selection(selections.by_backend)\n",
        "\n",
        "# white noise\n",
        "ef = white_signals.MeasurementNoise(efac=efac, selection=selection)\n",
        "eq = white_signals.EquadNoise(log10_equad=equad, selection=selection)\n",
        "ec = white_signals.EcorrKernelNoise(log10_ecorr=ecorr, selection=selection)"
      ],
      "execution_count": null,
      "outputs": []
    },
    {
      "cell_type": "markdown",
      "metadata": {
        "id": "O5qQApAaW9UA"
      },
      "source": [
        "Now we add in the red noise. We model the red noise as a power law with two parameters: an amplitude and spectral index."
      ]
    },
    {
      "cell_type": "code",
      "metadata": {
        "id": "JV-vaeOUx8Fo"
      },
      "source": [
        "# red noise parameters\n",
        "log10_A = parameter.LinearExp(-18, -11)\n",
        "gamma = parameter.Uniform(0, 7)\n",
        "\n",
        "# define powerlaw PSD and red noise signal\n",
        "pl = utils.powerlaw(log10_A=log10_A, gamma=gamma)\n",
        "rn = gp_signals.FourierBasisGP(pl, components=30, name='rn')"
      ],
      "execution_count": null,
      "outputs": []
    },
    {
      "cell_type": "markdown",
      "metadata": {
        "id": "VPdSZfPMrWyP"
      },
      "source": [
        "We also include contributions from the pulsar's timing model."
      ]
    },
    {
      "cell_type": "code",
      "metadata": {
        "id": "lQfu6WCerUkD"
      },
      "source": [
        "# linearized timing model\n",
        "tm = gp_signals.TimingModel(use_svd=True)  # stabilize the timing model with SVD"
      ],
      "execution_count": null,
      "outputs": []
    },
    {
      "cell_type": "markdown",
      "metadata": {
        "id": "95zpU-rOraj1"
      },
      "source": [
        "Finally, we define the GW background. We model the background as a power law with fixed spectral index and an amplitude parameter. You can also do runs where you vary the spectral index and the amplitude simultaneously."
      ]
    },
    {
      "cell_type": "code",
      "metadata": {
        "id": "l5bYbNJErcmV"
      },
      "source": [
        "# GW parameters (initialize with names here to use parameters in common across pulsars)\n",
        "log10_Agw = parameter.LinearExp(-18,-12)('log10_A_gw')\n",
        "gamma_gw = parameter.Constant(4.33)('gamma_gw')\n",
        "\n",
        "# gwb (no spatial correlations)\n",
        "cpl = utils.powerlaw(log10_A=log10_Agw, gamma=gamma_gw)\n",
        "gwb = gp_signals.FourierBasisGP(spectrum=cpl, components=30, name='gwb')"
      ],
      "execution_count": null,
      "outputs": []
    },
    {
      "cell_type": "markdown",
      "metadata": {
        "id": "vcNafLj7XGwr"
      },
      "source": [
        "Now we put together all of the signals to define the model."
      ]
    },
    {
      "cell_type": "code",
      "metadata": {
        "id": "WYTq1QFs3001"
      },
      "source": [
        "# full model\n",
        "s = ef + eq + ec + rn + tm + gwb"
      ],
      "execution_count": null,
      "outputs": []
    },
    {
      "cell_type": "markdown",
      "metadata": {
        "id": "wDFd9-OYdu7o"
      },
      "source": [
        "Since we are only analyzing a single pulsar, we will not include ephemeris modeling into the model."
      ]
    },
    {
      "cell_type": "code",
      "metadata": {
        "id": "n6OPh5_Vdub_"
      },
      "source": [
        "# if you want to include ephemeris modeling, set bayesephem = True\n",
        "bayesephem = False\n",
        "if bayesephem:\n",
        "    s += deterministic_signals.PhysicalEphemerisSignal(use_epoch_toas=True)"
      ],
      "execution_count": null,
      "outputs": []
    },
    {
      "cell_type": "markdown",
      "metadata": {
        "id": "oHlHU72Xd6u7"
      },
      "source": [
        "Now we initalize the model and the PTA object."
      ]
    },
    {
      "cell_type": "code",
      "metadata": {
        "id": "W_pQMXVx7qTQ"
      },
      "source": [
        "# initialize PTA\n",
        "model = [s(psr) for psr in psrs]\n",
        "pta = signal_base.PTA(model)"
      ],
      "execution_count": null,
      "outputs": []
    },
    {
      "cell_type": "markdown",
      "metadata": {
        "id": "SCSPEzbdr3Aw"
      },
      "source": [
        "We get the pulsars' white noise parameters from their noise files."
      ]
    },
    {
      "cell_type": "code",
      "metadata": {
        "id": "O5CVpr6zr5Rl",
        "outputId": "19743c6d-0d7f-40fc-aeba-947ce46a50c1",
        "colab": {
          "base_uri": "https://localhost:8080/",
          "height": 225
        }
      },
      "source": [
        "# load the white noise parameters from the noisefiles\n",
        "noisefiles = glob.glob(datadir + '*.json')\n",
        "\n",
        "setpars = {}\n",
        "for nf in noisefiles:\n",
        "    with open(nf, 'r') as fin:\n",
        "        setpars.update(json.load(fin))\n",
        "\n",
        "# fix the white noise parameters to the values in the noisefiles\n",
        "pta.set_default_params(setpars)"
      ],
      "execution_count": null,
      "outputs": [
        {
          "output_type": "stream",
          "text": [
            "INFO: enterprise.signals.signal_base: Setting J1909-3744_Rcvr1_2_GASP_efac to 0.9505606759311833\n",
            "INFO: enterprise.signals.signal_base: Setting J1909-3744_Rcvr1_2_GUPPI_efac to 1.0339776268866265\n",
            "INFO: enterprise.signals.signal_base: Setting J1909-3744_Rcvr_800_GASP_efac to 1.0504080629362422\n",
            "INFO: enterprise.signals.signal_base: Setting J1909-3744_Rcvr_800_GUPPI_efac to 1.0313779800296294\n",
            "INFO: enterprise.signals.signal_base: Setting J1909-3744_Rcvr1_2_GASP_log10_equad to -7.456278210493956\n",
            "INFO: enterprise.signals.signal_base: Setting J1909-3744_Rcvr1_2_GUPPI_log10_equad to -8.171553179171445\n",
            "INFO: enterprise.signals.signal_base: Setting J1909-3744_Rcvr_800_GASP_log10_equad to -7.037406290351743\n",
            "INFO: enterprise.signals.signal_base: Setting J1909-3744_Rcvr_800_GUPPI_log10_equad to -7.365322642903795\n",
            "INFO: enterprise.signals.signal_base: Setting J1909-3744_Rcvr1_2_GASP_log10_ecorr to -8.078816887958723\n",
            "INFO: enterprise.signals.signal_base: Setting J1909-3744_Rcvr1_2_GUPPI_log10_ecorr to -7.137638201510413\n",
            "INFO: enterprise.signals.signal_base: Setting J1909-3744_Rcvr_800_GASP_log10_ecorr to -7.871774784575877\n",
            "INFO: enterprise.signals.signal_base: Setting J1909-3744_Rcvr_800_GUPPI_log10_ecorr to -7.269816370154123\n"
          ],
          "name": "stderr"
        }
      ]
    },
    {
      "cell_type": "markdown",
      "metadata": {
        "id": "6FrHmXHte1Su"
      },
      "source": [
        "Here we draw the initial values for the parameters.\n",
        "\n",
        "This model only contains three parameters since we are only analyzing one pulsar, and we are not including `BayesEphem`. In general, if you run a gravitational wave search with fixed spectral index and without `BayesEphem`, you will have 2N + 1 parameters, where N is the number of pulsars in the PTA.\n",
        "\n"
      ]
    },
    {
      "cell_type": "code",
      "metadata": {
        "id": "Y8vrBwHQ7sNF",
        "outputId": "1c4d863b-d916-4483-a1f1-8799f990be0a",
        "colab": {
          "base_uri": "https://localhost:8080/",
          "height": 69
        }
      },
      "source": [
        "x0 = np.hstack([p.sample() for p in pta.params])\n",
        "ndim = len(x0)\n",
        "\n",
        "pta.params"
      ],
      "execution_count": null,
      "outputs": [
        {
          "output_type": "execute_result",
          "data": {
            "text/plain": [
              "[J1713+0747_red_noise_gamma:Uniform(pmin=0, pmax=7),\n",
              " J1713+0747_red_noise_log10_A:Uniform(pmin=-20, pmax=-11),\n",
              " gw_log10_A:Uniform(pmin=-18, pmax=-14)]"
            ]
          },
          "metadata": {
            "tags": []
          },
          "execution_count": 20
        }
      ]
    },
    {
      "cell_type": "markdown",
      "metadata": {
        "id": "cDjzjjvJfbsN"
      },
      "source": [
        "Setup the sampler"
      ]
    },
    {
      "cell_type": "code",
      "metadata": {
        "id": "3HFhfpZJ7voy"
      },
      "source": [
        "# initial jump covariance matrix\n",
        "cov = np.diag(np.ones(ndim) * 0.01**2)  # helps to tune MCMC proposal distribution\n",
        "\n",
        "# where chains will be written to\n",
        "outdir = datadir + '/chains_singlepsr_test_{}/'.format(str(psr.name))\n",
        "\n",
        "# sampler object: this sets the likelihood function and prior\n",
        "sample = ptmcmc(ndim, pta.get_lnlikelihood, pta.get_lnprior, cov,\n",
        "                 outDir=outdir, resume=False)"
      ],
      "execution_count": null,
      "outputs": []
    },
    {
      "cell_type": "markdown",
      "metadata": {
        "id": "MqCzmQmfiWxN"
      },
      "source": [
        "Sample the posterior! This may take a while."
      ]
    },
    {
      "cell_type": "code",
      "metadata": {
        "id": "GSDqW-g9HRWz",
        "outputId": "5718605c-e384-42d7-e365-c62672ee13fe",
        "colab": {
          "base_uri": "https://localhost:8080/",
          "height": 104
        }
      },
      "source": [
        "# sampler for N steps\n",
        "N = int(1e6)\n",
        "\n",
        "# SCAM = Single Component Adaptive Metropolis\n",
        "# AM = Adaptive Metropolis\n",
        "# DE = Differential Evolution\n",
        "\n",
        "# You can keep all these set at default values\n",
        "# by default, the sampler saves every 10th step in the chain file\n",
        "sample.sample(x0, N, SCAMweight=30, AMweight=15, DEweight=50, )"
      ],
      "execution_count": null,
      "outputs": [
        {
          "output_type": "stream",
          "text": [
            "/usr/local/lib/python3.6/dist-packages/enterprise/signals/parameter.py:64: RuntimeWarning: divide by zero encountered in log\n",
            "  logpdf = np.log(self.prior(value, **kwargs))\n"
          ],
          "name": "stderr"
        },
        {
          "output_type": "stream",
          "text": [
            "Finished 1.00 percent in 24.831321 s Acceptance rate = 0.295Adding DE jump with weight 50\n",
            "Finished 99.90 percent in 2546.767093 s Acceptance rate = 0.372633\n",
            "Run Complete\n"
          ],
          "name": "stdout"
        }
      ]
    },
    {
      "cell_type": "markdown",
      "metadata": {
        "id": "puNeKnal0mlN"
      },
      "source": [
        "# Post processing"
      ]
    },
    {
      "cell_type": "markdown",
      "metadata": {
        "id": "KdUO1ScY0xtI"
      },
      "source": [
        "Now that the MCMC has completed, let's look at the chains."
      ]
    },
    {
      "cell_type": "code",
      "metadata": {
        "id": "8cwoXjV9vdqu"
      },
      "source": [
        "chain = np.loadtxt(outdir + 'chain_1.txt')\n",
        "burn = int(0.25 * chain.shape[0])  # experiment with burn-in"
      ],
      "execution_count": null,
      "outputs": []
    },
    {
      "cell_type": "code",
      "metadata": {
        "id": "_zPmBGZB1KgL"
      },
      "source": [
        "# Find column of chain file corresponding to a parameter\n",
        "param = 'log10_A_gw'\n",
        "ind = list(pta.param_names).index(param)"
      ],
      "execution_count": null,
      "outputs": []
    },
    {
      "cell_type": "code",
      "metadata": {
        "id": "2bv7XcVu1MN1",
        "outputId": "df332f1e-f4e4-46a2-9ce0-95df90532e8f",
        "colab": {
          "base_uri": "https://localhost:8080/",
          "height": 69
        }
      },
      "source": [
        "# print names of parameters we can plot\n",
        "[print(name) for name in pta.param_names];"
      ],
      "execution_count": null,
      "outputs": [
        {
          "output_type": "stream",
          "text": [
            "J1909-3744_rn_gamma\n",
            "J1909-3744_rn_log10_A\n",
            "log10_A_gw\n"
          ],
          "name": "stdout"
        }
      ]
    },
    {
      "cell_type": "code",
      "metadata": {
        "id": "bmFKr94l1Nzb",
        "outputId": "adc9c566-c796-4f9c-97db-cfcf7071a052",
        "colab": {
          "base_uri": "https://localhost:8080/",
          "height": 282
        }
      },
      "source": [
        "# Make trace-plot to diagnose sampling\n",
        "# This should look like a fuzzy caterpillar (and not like a worm)!\n",
        "plt.plot(chain[burn:, ind])"
      ],
      "execution_count": null,
      "outputs": [
        {
          "output_type": "execute_result",
          "data": {
            "text/plain": [
              "[<matplotlib.lines.Line2D at 0x7f6111c54cf8>]"
            ]
          },
          "metadata": {
            "tags": []
          },
          "execution_count": 25
        },
        {
          "output_type": "display_data",
          "data": {
            "image/png": "[encoded data removed]",
            "text/plain": [
              "<Figure size 432x288 with 1 Axes>"
            ]
          },
          "metadata": {
            "tags": [],
            "image/png": {
              "width": 386,
              "height": 248
            },
            "needs_background": "light"
          }
        }
      ]
    },
    {
      "cell_type": "code",
      "metadata": {
        "id": "9LLcEdD01SAD",
        "outputId": "e9f3fb8c-ba8c-4269-8325-89767e5b7b67",
        "colab": {
          "base_uri": "https://localhost:8080/",
          "height": 296
        }
      },
      "source": [
        "# Plot a histogram of the marginalized posterior distribution\n",
        "plt.hist(chain[burn:,ind], 50, density=True, histtype='stepfilled', \n",
        "         lw=2, color='C0', alpha=0.5);\n",
        "plt.xlabel(str(param))\n",
        "plt.ylabel('PDF')"
      ],
      "execution_count": null,
      "outputs": [
        {
          "output_type": "execute_result",
          "data": {
            "text/plain": [
              "Text(0, 0.5, 'PDF')"
            ]
          },
          "metadata": {
            "tags": []
          },
          "execution_count": 26
        },
        {
          "output_type": "display_data",
          "data": {
            "image/png": "[encoded data removed]",
            "text/plain": [
              "<Figure size 432x288 with 1 Axes>"
            ]
          },
          "metadata": {
            "tags": [],
            "image/png": {
              "width": 390,
              "height": 262
            },
            "needs_background": "light"
          }
        }
      ]
    },
    {
      "cell_type": "markdown",
      "metadata": {
        "id": "UXFGzkphnjAE"
      },
      "source": [
        "The plot clearly indicates that a signal is supported by `J1909`. Gravitational wave background amplitude (logarithmic) can be somewhere between about $-15.5$ and $-14.0$. Let's now turn to `J1713`. To analyze this pulsar, we will use `enterprise_extensions` which has convenient scripts to do exactly everything above in only a few lines."
      ]
    },
    {
      "cell_type": "markdown",
      "metadata": {
        "id": "kZdlVWkK1DwK"
      },
      "source": [
        "# `J1713`"
      ]
    },
    {
      "cell_type": "code",
      "metadata": {
        "id": "j4hfv8r48iYq"
      },
      "source": [
        "from enterprise_extensions import models, model_utils, sampler"
      ],
      "execution_count": null,
      "outputs": []
    },
    {
      "cell_type": "code",
      "metadata": {
        "id": "39wY3wu7q4cv"
      },
      "source": [
        "datadir = 'nanograv_12yr_tutorial/data/'\n",
        "\n",
        "psrstring = 'J1713'  # two exist in this dataset: 1909 and 1713\n",
        "\n",
        "parfiles = sorted(glob.glob(datadir + psrstring + '*.par'))\n",
        "timfiles = sorted(glob.glob(datadir + psrstring + '*.tim'))\n",
        "\n",
        "ephemeris = 'DE438'\n",
        "\n",
        "psrs = []\n",
        "for p, t in zip(parfiles, timfiles):\n",
        "    psrname = parfiles[0].split('/')[-1].split('_')[0]\n",
        "    psr = Pulsar(p, t, ephem=ephemeris)\n",
        "    psrs.append(psr)"
      ],
      "execution_count": null,
      "outputs": []
    },
    {
      "cell_type": "code",
      "metadata": {
        "id": "18EAqeoooxNW",
        "outputId": "db884a0c-173c-41bd-945c-31ff3fd29c4b",
        "colab": {
          "base_uri": "https://localhost:8080/",
          "height": 434
        }
      },
      "source": [
        "pta = models.model_general(psrs, red_psd='powerlaw', common_psd='powerlaw', \n",
        "                            red_components=30, common_components=30, \n",
        "                            white_vary=False, noisedict=params, tm_svd=True, \n",
        "                            gamma_common=4.33, upper_limit_red=False, \n",
        "                            upper_limit_common=False, bayesephem=False)"
      ],
      "execution_count": null,
      "outputs": [
        {
          "output_type": "stream",
          "text": [
            "INFO: enterprise.signals.signal_base: Setting J1713+0747_L-wide_ASP_efac to 1.0524302344416032\n",
            "INFO: enterprise.signals.signal_base: Setting J1713+0747_L-wide_PUPPI_efac to 0.9796026604137508\n",
            "INFO: enterprise.signals.signal_base: Setting J1713+0747_Rcvr1_2_GASP_efac to 1.084307149708116\n",
            "INFO: enterprise.signals.signal_base: Setting J1713+0747_Rcvr1_2_GUPPI_efac to 1.017213088587959\n",
            "INFO: enterprise.signals.signal_base: Setting J1713+0747_Rcvr_800_GASP_efac to 1.117529091199639\n",
            "INFO: enterprise.signals.signal_base: Setting J1713+0747_Rcvr_800_GUPPI_efac to 1.0500383710337968\n",
            "INFO: enterprise.signals.signal_base: Setting J1713+0747_S-wide_ASP_efac to 1.1139598766607257\n",
            "INFO: enterprise.signals.signal_base: Setting J1713+0747_S-wide_PUPPI_efac to 1.0889710082237398\n",
            "INFO: enterprise.signals.signal_base: Setting J1713+0747_L-wide_ASP_log10_equad to -7.58206720746206\n",
            "INFO: enterprise.signals.signal_base: Setting J1713+0747_L-wide_PUPPI_log10_equad to -8.377098873197399\n",
            "INFO: enterprise.signals.signal_base: Setting J1713+0747_Rcvr1_2_GASP_log10_equad to -7.423897862687164\n",
            "INFO: enterprise.signals.signal_base: Setting J1713+0747_Rcvr1_2_GUPPI_log10_equad to -8.357193830632392\n",
            "INFO: enterprise.signals.signal_base: Setting J1713+0747_Rcvr_800_GASP_log10_equad to -7.251839650442933\n",
            "INFO: enterprise.signals.signal_base: Setting J1713+0747_Rcvr_800_GUPPI_log10_equad to -7.614933520652966\n",
            "INFO: enterprise.signals.signal_base: Setting J1713+0747_S-wide_ASP_log10_equad to -8.027710747783962\n",
            "INFO: enterprise.signals.signal_base: Setting J1713+0747_S-wide_PUPPI_log10_equad to -8.186781270775445\n",
            "INFO: enterprise.signals.signal_base: Setting J1713+0747_L-wide_ASP_log10_ecorr to -7.029000061406403\n",
            "INFO: enterprise.signals.signal_base: Setting J1713+0747_L-wide_PUPPI_log10_ecorr to -7.142663306094692\n",
            "INFO: enterprise.signals.signal_base: Setting J1713+0747_Rcvr1_2_GASP_log10_ecorr to -7.299970815145262\n",
            "INFO: enterprise.signals.signal_base: Setting J1713+0747_Rcvr1_2_GUPPI_log10_ecorr to -7.131010248150742\n",
            "INFO: enterprise.signals.signal_base: Setting J1713+0747_Rcvr_800_GASP_log10_ecorr to -7.788837849013025\n",
            "INFO: enterprise.signals.signal_base: Setting J1713+0747_Rcvr_800_GUPPI_log10_ecorr to -6.730867845961182\n",
            "INFO: enterprise.signals.signal_base: Setting J1713+0747_S-wide_ASP_log10_ecorr to -6.876597410265874\n",
            "INFO: enterprise.signals.signal_base: Setting J1713+0747_S-wide_PUPPI_log10_ecorr to -7.305157969602163\n"
          ],
          "name": "stderr"
        }
      ]
    },
    {
      "cell_type": "code",
      "metadata": {
        "id": "4yLTyHpWqSH7",
        "outputId": "3bd733d7-75b6-458f-ac1e-d8209d4f78e5",
        "colab": {
          "base_uri": "https://localhost:8080/",
          "height": 72
        }
      },
      "source": [
        "print(len(pta.params))\n",
        "print(pta.params)"
      ],
      "execution_count": null,
      "outputs": [
        {
          "output_type": "stream",
          "text": [
            "3\n",
            "[J1713+0747_red_noise_gamma:Uniform(pmin=0, pmax=7), J1713+0747_red_noise_log10_A:Uniform(pmin=-20, pmax=-11), gw_log10_A:Uniform(pmin=-18, pmax=-14)]\n"
          ],
          "name": "stdout"
        }
      ]
    },
    {
      "cell_type": "code",
      "metadata": {
        "id": "W5RB5Fqjqduu",
        "outputId": "2465539f-7601-4aaa-b819-4ec86ef03431",
        "colab": {
          "base_uri": "https://localhost:8080/",
          "height": 86
        }
      },
      "source": [
        "# Setup a sampler instance.\n",
        "# This will add some fanicer stuff than before, like prior draws, \n",
        "# and custom sample groupings.\n",
        "\n",
        "# where chains will be written to\n",
        "outdir = datadir + '/chains_singlepsr_test_{}/'.format(str(psr.name))\n",
        "\n",
        "sample = sampler.setup_sampler(pta, outdir=outdir, resume=False)"
      ],
      "execution_count": null,
      "outputs": [
        {
          "output_type": "stream",
          "text": [
            "Adding red noise prior draws...\n",
            "\n",
            "Adding GWB uniform distribution draws...\n",
            "\n"
          ],
          "name": "stdout"
        }
      ]
    },
    {
      "cell_type": "code",
      "metadata": {
        "id": "YsWNe2d4zPpy",
        "outputId": "e288233c-188a-4e5b-8a5d-266cadd8d27e",
        "colab": {
          "base_uri": "https://localhost:8080/",
          "height": 193
        }
      },
      "source": [
        "# sampler for N steps\n",
        "N = int(1e6)\n",
        "x0 = x0 = np.hstack(p.sample() for p in pta.params)\n",
        "\n",
        "# SCAM = Single Component Adaptive Metropolis\n",
        "# AM = Adaptive Metropolis\n",
        "# DE = Differential Evolution\n",
        "## You can keep all these set at default values\n",
        "sample.sample(x0, N, SCAMweight=30, AMweight=15, DEweight=50, )"
      ],
      "execution_count": null,
      "outputs": [
        {
          "output_type": "stream",
          "text": [
            "/usr/local/lib/python3.6/dist-packages/ipykernel_launcher.py:3: FutureWarning: arrays to stack must be passed as a \"sequence\" type such as list or tuple. Support for non-sequence iterables such as generators is deprecated as of NumPy 1.16 and will raise an error in the future.\n",
            "  This is separate from the ipykernel package so we can avoid doing imports until\n",
            "/usr/local/lib/python3.6/dist-packages/enterprise/signals/utils.py:796: RuntimeWarning: invalid value encountered in true_divide\n",
            "  nmat = Mmat / norm\n",
            "/usr/local/lib/python3.6/dist-packages/enterprise/signals/parameter.py:64: RuntimeWarning: divide by zero encountered in log\n",
            "  logpdf = np.log(self.prior(value, **kwargs))\n"
          ],
          "name": "stderr"
        },
        {
          "output_type": "stream",
          "text": [
            "Finished 1.00 percent in 51.274405 s Acceptance rate = 0.3992Adding DE jump with weight 50\n",
            "Finished 99.90 percent in 5172.498505 s Acceptance rate = 0.492392\n",
            "Run Complete\n"
          ],
          "name": "stdout"
        }
      ]
    },
    {
      "cell_type": "code",
      "metadata": {
        "id": "HkZ9NeGx1RwV"
      },
      "source": [
        "chain = np.loadtxt(outdir + 'chain_1.txt')\n",
        "burn = int(0.25 * chain.shape[0])  # experiment with burn-in"
      ],
      "execution_count": null,
      "outputs": []
    },
    {
      "cell_type": "code",
      "metadata": {
        "id": "1ZZnfmvZjXpE"
      },
      "source": [
        "# Find column of chain file corresponding to a parameter\n",
        "param = 'gw_log10_A'\n",
        "ind = list(pta.param_names).index(param)"
      ],
      "execution_count": null,
      "outputs": []
    },
    {
      "cell_type": "code",
      "metadata": {
        "id": "s0XoiSATj3ki",
        "outputId": "ab389df3-4d4f-4170-f09e-fab895c57609",
        "colab": {
          "base_uri": "https://localhost:8080/",
          "height": 282
        }
      },
      "source": [
        "# Make trace-plot to diagnose sampling\n",
        "# This should look like a fuzzy caterpillar (and not like a worm)!\n",
        "plt.plot(chain[burn:, ind])"
      ],
      "execution_count": null,
      "outputs": [
        {
          "output_type": "execute_result",
          "data": {
            "text/plain": [
              "[<matplotlib.lines.Line2D at 0x7f9c325b5da0>]"
            ]
          },
          "metadata": {
            "tags": []
          },
          "execution_count": 15
        },
        {
          "output_type": "display_data",
          "data": {
            "image/png": "[encoded data removed]",
            "text/plain": [
              "<Figure size 432x288 with 1 Axes>"
            ]
          },
          "metadata": {
            "tags": [],
            "image/png": {
              "width": 386,
              "height": 248
            },
            "needs_background": "light"
          }
        }
      ]
    },
    {
      "cell_type": "code",
      "metadata": {
        "id": "A0Y0noDXj9-4",
        "outputId": "d4cbf8bf-a84c-4cf5-9de8-5a30da65fe8c",
        "colab": {
          "base_uri": "https://localhost:8080/",
          "height": 296
        }
      },
      "source": [
        "# Plot a histogram of the marginalized posterior distribution\n",
        "plt.hist(chain[burn:,ind], 50, density=True, histtype='stepfilled', \n",
        "         lw=2, color='C0', alpha=0.5);\n",
        "plt.xlabel(str(param))\n",
        "plt.ylabel('PDF')"
      ],
      "execution_count": null,
      "outputs": [
        {
          "output_type": "execute_result",
          "data": {
            "text/plain": [
              "Text(0, 0.5, 'PDF')"
            ]
          },
          "metadata": {
            "tags": []
          },
          "execution_count": 16
        },
        {
          "output_type": "display_data",
          "data": {
            "image/png": "[encoded data removed]",
            "text/plain": [
              "<Figure size 432x288 with 1 Axes>"
            ]
          },
          "metadata": {
            "tags": [],
            "image/png": {
              "width": 392,
              "height": 262
            },
            "needs_background": "light"
          }
        }
      ]
    },
    {
      "cell_type": "markdown",
      "metadata": {
        "id": "uBp1Eza9kHfo"
      },
      "source": [
        "While we do see a slight preference for the side where we found the signal in the last pulsar, `J1713` does not support a GWB signal in this data. The distribution ranges over the entire span of parameters."
      ]
    },
    {
      "cell_type": "code",
      "metadata": {
        "id": "VvMi4717kCv4"
      },
      "source": [
        ""
      ],
      "execution_count": null,
      "outputs": []
    }
  ]
}